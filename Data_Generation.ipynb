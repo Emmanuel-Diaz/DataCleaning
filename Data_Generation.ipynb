{
 "cells": [
  {
   "cell_type": "code",
   "execution_count": 33,
   "metadata": {
    "collapsed": true
   },
   "outputs": [],
   "source": [
    "import pandas as pd\n",
    "import numpy as np\n",
    "import random\n",
    "\n",
    "random.seed(1337)"
   ]
  },
  {
   "cell_type": "markdown",
   "metadata": {},
   "source": [
    "# Incorrect Values"
   ]
  },
  {
   "cell_type": "code",
   "execution_count": 47,
   "metadata": {},
   "outputs": [],
   "source": [
    "students = []\n",
    "classes_taking = []\n",
    "time_wake_up = []\n",
    "time_at_library = []\n",
    "wake_up_times = [str(i) + random.choice([\":00\", \":30\"]) + random.choice([\" PM\", \" AM\"]) for i in range(1,12+1)]\n",
    "\n",
    "#create students\n",
    "for i in range(1,100+1):\n",
    "    students.append(\"Student {}\".format(i))\n",
    "    classes_taking.append(random.randint(1,5))\n",
    "    time_wake_up.append(random.choice(wake_up_times))\n",
    "    time_at_library.append(str(random.randint(0,8)) + \" hours\")\n",
    "\n",
    "#create table\n",
    "d = {\"Students\": students, \"Classes Taking\": classes_taking, \"Time Wake Up\": time_wake_up, \"Time Spend at Library\": time_at_library}\n",
    "incorrect_table = pd.DataFrame(data=d)\n",
    "incorrect_table = incorrect_table[[\"Students\",\"Classes Taking\",\"Time Wake Up\",\"Time Spend at Library\"]]"
   ]
  },
  {
   "cell_type": "code",
   "execution_count": 51,
   "metadata": {},
   "outputs": [],
   "source": [
    "#lets mess up some values for Time Spent at Library\n",
    "for i in range(25):\n",
    "    rand_row = random.randint(0,99)\n",
    "    incorrect_table.loc[rand_row,\"Time Spend at Library\"] = random.choice([\"Uh\", \"None\", \"\", \"Many\"])\n",
    "\n",
    "#mess up Time Wake Up\n",
    "for i in range(32):\n",
    "    rand_row = random.randint(0,99)\n",
    "    incorrect_table.loc[rand_row, \"Time Wake Up\"] = random.choice([\"Never\", \"Morning\", \"Team No Sleep\"])\n",
    "\n",
    "#mess up Classes Taking\n",
    "for i in range(4):\n",
    "    rand_row = random.randint(0,99)\n",
    "    incorrect_table.loc[rand_row, \"Classes Taking\"] = random.choice([\"I don't go here lol\", \"None\", \"Yes\"])\n"
   ]
  },
  {
   "cell_type": "markdown",
   "metadata": {},
   "source": [
    "# Data Accuracy"
   ]
  },
  {
   "cell_type": "code",
   "execution_count": 68,
   "metadata": {},
   "outputs": [],
   "source": [
    "patients = []\n",
    "patient_sex = []\n",
    "blood_type = []\n",
    "ages = []\n",
    "taking_other_medication = []\n",
    "prob_drug_works = []\n",
    "prob_drug_fails = []\n",
    "\n",
    "for i in range(50):\n",
    "    patients.append(['John Doe' if i % 2 == 0 else 'Jane Doe'][0])\n",
    "    patient_sex.append(['M' if i % 2 == 0 else 'F'][0])\n",
    "    blood_type.append(random.choice(['A','B','AB', 'O']))\n",
    "    ages.append(random.randint(40,65))\n",
    "    taking_other_medication.append(np.random.choice([True, False],p=[0.2,0.8]))\n",
    "\n",
    "\n",
    "for i in range(50):\n",
    "    prob_works = 0\n",
    "    if(patient_sex[i] == 'F'):\n",
    "        prob_works += 0.33\n",
    "        \n",
    "    if(blood_type[i] == 'O'):\n",
    "        prob_works += 0.11\n",
    "            \n",
    "    if(ages[i] <= 55 and ages[i] >= 50):\n",
    "        prob_works += 0.21\n",
    "            \n",
    "    if(taking_other_medication[i] != True):\n",
    "        prob_works += 0.16\n",
    "        \n",
    "    prob_fails = 1 - prob_works\n",
    "        \n",
    "    prob_drug_works.append(prob_works)\n",
    "    prob_drug_fails.append(prob_fails)\n",
    "        \n",
    "\n",
    "med_headers = ['Patient', 'Sex', 'Age', 'Blood Type', 'Taking other Medication', 'P(Drug Works)', 'P(Drug Fails)']\n",
    "\n",
    "med = {med_headers[0]: patients,med_headers[1]: patient_sex, med_headers[2]: ages, med_headers[3]: blood_type, \n",
    "       med_headers[4]: taking_other_medication, med_headers[5]: prob_drug_works, med_headers[6]: prob_drug_fails}\n",
    "\n",
    "medical_table = pd.DataFrame(data=med)\n",
    "medical_table = medical_table[med_headers]"
   ]
  },
  {
   "cell_type": "code",
   "execution_count": 71,
   "metadata": {},
   "outputs": [],
   "source": [
    "#mess up medical probabilities\n",
    "for i in range(10):\n",
    "    rand_num = random.randint(0,49)\n",
    "    medical_table.loc[rand_num, 'P(Drug Works)'] += 0.01\n",
    "    medical_table.loc[rand_num, 'P(Drug Fails)'] += 0.04"
   ]
  },
  {
   "cell_type": "markdown",
   "metadata": {},
   "source": [
    "# Challenge"
   ]
  },
  {
   "cell_type": "code",
   "execution_count": null,
   "metadata": {
    "collapsed": true
   },
   "outputs": [],
   "source": []
  }
 ],
 "metadata": {
  "kernelspec": {
   "display_name": "Python 3",
   "language": "python",
   "name": "python3"
  },
  "language_info": {
   "codemirror_mode": {
    "name": "ipython",
    "version": 3
   },
   "file_extension": ".py",
   "mimetype": "text/x-python",
   "name": "python",
   "nbconvert_exporter": "python",
   "pygments_lexer": "ipython3",
   "version": "3.6.2"
  }
 },
 "nbformat": 4,
 "nbformat_minor": 2
}
