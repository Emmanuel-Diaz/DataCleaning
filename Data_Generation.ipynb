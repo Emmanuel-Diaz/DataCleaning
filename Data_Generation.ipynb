{
 "cells": [
  {
   "cell_type": "code",
   "execution_count": 33,
   "metadata": {
    "collapsed": true
   },
   "outputs": [],
   "source": [
    "import pandas as pd\n",
    "import numpy as np\n",
    "import random\n",
    "\n",
    "random.seed(1337)"
   ]
  },
  {
   "cell_type": "markdown",
   "metadata": {},
   "source": [
    "# Incorrect Values"
   ]
  },
  {
   "cell_type": "code",
   "execution_count": 47,
   "metadata": {},
   "outputs": [],
   "source": [
    "students = []\n",
    "classes_taking = []\n",
    "time_wake_up = []\n",
    "time_at_library = []\n",
    "wake_up_times = [str(i) + random.choice([\":00\", \":30\"]) + random.choice([\" PM\", \" AM\"]) for i in range(1,12+1)]\n",
    "\n",
    "#create students\n",
    "for i in range(1,100+1):\n",
    "    students.append(\"Student {}\".format(i))\n",
    "    classes_taking.append(random.randint(1,5))\n",
    "    time_wake_up.append(random.choice(wake_up_times))\n",
    "    time_at_library.append(str(random.randint(0,8)) + \" hours\")\n",
    "\n",
    "#create table\n",
    "d = {\"Students\": students, \"Classes Taking\": classes_taking, \"Time Wake Up\": time_wake_up, \"Time Spend at Library\": time_at_library}\n",
    "incorrect_table = pd.DataFrame(data=d)\n",
    "incorrect_table = incorrect_table[[\"Students\",\"Classes Taking\",\"Time Wake Up\",\"Time Spend at Library\"]]"
   ]
  },
  {
   "cell_type": "code",
   "execution_count": 51,
   "metadata": {},
   "outputs": [],
   "source": [
    "#lets mess up some values for Time Spent at Library\n",
    "for i in range(25):\n",
    "    rand_row = random.randint(0,99)\n",
    "    incorrect_table.loc[rand_row,\"Time Spend at Library\"] = random.choice([\"Uh\", \"None\", \"\", \"Many\"])\n",
    "\n",
    "#mess up Time Wake Up\n",
    "for i in range(32):\n",
    "    rand_row = random.randint(0,99)\n",
    "    incorrect_table.loc[rand_row, \"Time Wake Up\"] = random.choice([\"Never\", \"Morning\", \"Team No Sleep\"])\n",
    "\n",
    "#mess up Classes Taking\n",
    "for i in range(4):\n",
    "    rand_row = random.randint(0,99)\n",
    "    incorrect_table.loc[rand_row, \"Classes Taking\"] = random.choice([\"I don't go here lol\", \"None\", \"Yes\"])\n",
    "\n",
    "incorrect_table.to_csv('incorrect_table.csv')"
   ]
  },
  {
   "cell_type": "code",
   "execution_count": null,
   "metadata": {
    "collapsed": true
   },
   "outputs": [],
   "source": []
  }
 ],
 "metadata": {
  "kernelspec": {
   "display_name": "Python 3",
   "language": "python",
   "name": "python3"
  },
  "language_info": {
   "codemirror_mode": {
    "name": "ipython",
    "version": 3
   },
   "file_extension": ".py",
   "mimetype": "text/x-python",
   "name": "python",
   "nbconvert_exporter": "python",
   "pygments_lexer": "ipython3",
   "version": "3.6.2"
  }
 },
 "nbformat": 4,
 "nbformat_minor": 2
}
