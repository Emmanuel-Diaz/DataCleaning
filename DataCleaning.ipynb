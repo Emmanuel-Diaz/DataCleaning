{
  "nbformat": 4,
  "nbformat_minor": 0,
  "metadata": {
    "colab": {
      "name": "DataCleaning.ipynb",
      "version": "0.3.2",
      "provenance": [],
      "collapsed_sections": []
    },
    "kernelspec": {
      "name": "python3",
      "display_name": "Python 3"
    }
  },
  "cells": [
    {
      "metadata": {
        "id": "CGrB8E2AKkwY",
        "colab_type": "text"
      },
      "cell_type": "markdown",
      "source": [
        "# Data Cleaning"
      ]
    },
    {
      "metadata": {
        "id": "h1KrwVC-K6Wz",
        "colab_type": "text"
      },
      "cell_type": "markdown",
      "source": [
        "One of the most important actions in life is preparing, whether it be preparing for a test by studying or gathering the right ingredients to make a meal, preparation is a key step towards success. Just like everyone, data isn't perfect, can have mistakes, and often forgets to text back(FUNNY). Maybe not the latter, but the process of data collection yields much room for error whether it be missing data values or inaccurate data readings. For this reason, we should prepare our data before diving into analysis. \n",
        "\n"
      ]
    },
    {
      "metadata": {
        "id": "gxaDQWMhnl1-",
        "colab_type": "text"
      },
      "cell_type": "markdown",
      "source": [
        "**Excercise**:\n",
        "\n",
        "Before we tell the computer what to look for, let us know intuitively what is wrong with the data.\n",
        "Take a look at the following table from a UCSD data set and spot some obvious and not so obvious errors."
      ]
    },
    {
      "metadata": {
        "id": "oUX8V9iHazE0",
        "colab_type": "text"
      },
      "cell_type": "markdown",
      "source": [
        "![alt text](https://i.imgur.com/MqqZukV.png)\n",
        "\n"
      ]
    },
    {
      "metadata": {
        "id": "-eIej7WAom4Q",
        "colab_type": "text"
      },
      "cell_type": "markdown",
      "source": [
        "We can spot quite a few errors, like the fact that NaN is not a major and why would a raccoon eat at Pines, raccoons eat trash - wait nevermind(FUNNY). Although we can spot these mistakes, we need to think more systematically in order to know how to write a program fixing the data. \n",
        "\n",
        "Say we want to analyze the frequency of favorite dining halls to know which one most students enjoy. Look at the column for 'Favorite Dining Hall', you would expect all the values to follow some sort of pattern. The 'Favorite Dining Hall' column should really only contain values in the set of all dining halls [\"64 Degrees\", \"Cafe Ventanas\". \"Canyon Vista\", \"Foodworx\", \"Oceanview\", \"Pines\"]. Any other kind of answers for dining halls should not be looked at when looking for the most favorited dining hall.\n",
        "\n",
        "Ok so we removed the undesired entries for the favorite dining hall analysis, let's calculate the mode of the 'Favorite Dining Hall' column and we're done, right? Well, look at the table again, there are two Talking Trees! We really should only have one (seriously), duplicate entries should  always be considered when cleaning every data set you encounter.\n",
        "\n",
        "\n",
        "There are multiple cases to look for depending on what kind of analysis you are performing, so let's take a look at different classic scenarios you will definitely face at some point when cleaning your data."
      ]
    },
    {
      "metadata": {
        "id": "PyAKAhxD06af",
        "colab_type": "text"
      },
      "cell_type": "markdown",
      "source": [
        "### Load Dataset\n",
        "\n",
        "Let's run this cell to load the ____ dataset"
      ]
    },
    {
      "metadata": {
        "id": "RtKGH8xA05ak",
        "colab_type": "code",
        "colab": {
          "resources": {
            "http://localhost:8080/nbextensions/google.colab/files.js": {
              "data": "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",
              "ok": true,
              "headers": [
                [
                  "content-type",
                  "application/javascript"
                ]
              ],
              "status": 200,
              "status_text": "OK"
            }
          },
          "base_uri": "https://localhost:8080/",
          "height": 106
        },
        "outputId": "2839de9d-cf01-4337-e414-2c3a2f260f1b"
      },
      "cell_type": "code",
      "source": [
        "import pandas as pd\n",
        "from google.colab import files\n",
        "\n",
        "\n",
        "files.upload()\n",
        "\n"
      ],
      "execution_count": 97,
      "outputs": [
        {
          "output_type": "display_data",
          "data": {
            "text/html": [
              "\n",
              "     <input type=\"file\" id=\"files-a9fbfc6b-c520-422b-a21f-37803c5a7cad\" name=\"files[]\" multiple disabled />\n",
              "     <output id=\"result-a9fbfc6b-c520-422b-a21f-37803c5a7cad\">\n",
              "      Upload widget is only available when the cell has been executed in the\n",
              "      current browser session. Please rerun this cell to enable.\n",
              "      </output>\n",
              "      <script src=\"/nbextensions/google.colab/files.js\"></script> "
            ],
            "text/plain": [
              "<IPython.core.display.HTML object>"
            ]
          },
          "metadata": {
            "tags": []
          }
        },
        {
          "output_type": "stream",
          "text": [
            "Saving medical_table.csv to medical_table.csv\n"
          ],
          "name": "stdout"
        },
        {
          "output_type": "execute_result",
          "data": {
            "text/plain": [
              "{'medical_table.csv': b',Patient,Sex,Age,Blood Type,Taking other Medication,P(Drug Works),P(Drug Fails)\\n0,John Doe,M,60,B,False,0.16,0.88\\n1,Jane Doe,F,62,B,True,0.33,0.6699999999999999\\n2,John Doe,M,50,B,False,0.37,0.63\\n3,Jane Doe,F,43,AB,False,0.49,0.51\\n4,John Doe,M,50,AB,False,0.37,0.63\\n5,Jane Doe,F,47,O,False,0.61,0.44\\n6,John Doe,M,55,A,True,0.21,0.8700000000000001\\n7,Jane Doe,F,50,A,False,0.7100000000000001,0.3399999999999999\\n8,John Doe,M,62,A,False,0.17,0.84\\n9,Jane Doe,F,43,B,False,0.52,0.6700000000000002\\n10,John Doe,M,56,B,False,0.17,0.84\\n11,Jane Doe,F,42,A,False,0.5,0.51\\n12,John Doe,M,64,O,False,0.27,0.73\\n13,Jane Doe,F,61,O,False,0.61,0.4\\n14,John Doe,M,52,AB,True,0.22,0.79\\n15,Jane Doe,F,51,O,False,0.8200000000000001,0.22999999999999995\\n16,John Doe,M,65,AB,False,0.16,0.84\\n17,Jane Doe,F,51,O,False,0.81,0.26999999999999996\\n18,John Doe,M,64,O,False,0.28,0.77\\n19,Jane Doe,F,64,A,False,0.52,0.55\\n20,John Doe,M,58,AB,False,0.16,0.88\\n21,Jane Doe,F,65,O,False,0.61,0.4\\n22,John Doe,M,52,O,False,0.48,0.52\\n23,Jane Doe,F,52,A,False,0.7100000000000001,0.3799999999999999\\n24,John Doe,M,43,AB,False,0.19000000000000003,0.92\\n25,Jane Doe,F,59,A,False,0.49,0.51\\n26,John Doe,M,52,B,False,0.37,0.63\\n27,Jane Doe,F,59,AB,True,0.35000000000000003,0.75\\n28,John Doe,M,65,AB,False,0.17,0.88\\n29,Jane Doe,F,41,O,False,0.6,0.4\\n30,John Doe,M,61,O,False,0.27,0.81\\n31,Jane Doe,F,64,A,True,0.34,0.71\\n32,John Doe,M,53,B,True,0.21,0.79\\n33,Jane Doe,F,51,A,True,0.54,0.45999999999999996\\n34,John Doe,M,63,O,False,0.28,0.77\\n35,Jane Doe,F,61,A,False,0.49,0.51\\n36,John Doe,M,62,A,False,0.16,0.84\\n37,Jane Doe,F,63,A,False,0.49,0.55\\n38,John Doe,M,49,B,False,0.16,0.88\\n39,Jane Doe,F,53,AB,True,0.55,0.45999999999999996\\n40,John Doe,M,41,AB,False,0.17,0.84\\n41,Jane Doe,F,65,A,False,0.49,0.51\\n42,John Doe,M,63,B,True,0.01,1.04\\n43,Jane Doe,F,51,B,False,0.7000000000000001,0.29999999999999993\\n44,John Doe,M,43,O,False,0.27,0.73\\n45,Jane Doe,F,55,A,False,0.7100000000000001,0.29999999999999993\\n46,John Doe,M,64,AB,False,0.16,0.84\\n47,Jane Doe,F,46,AB,False,0.49,0.51\\n48,John Doe,M,41,A,False,0.16,0.84\\n49,Jane Doe,F,42,AB,False,0.5,0.55\\n'}"
            ]
          },
          "metadata": {
            "tags": []
          },
          "execution_count": 97
        }
      ]
    },
    {
      "metadata": {
        "id": "UTw8EoM6yoL1",
        "colab_type": "text"
      },
      "cell_type": "markdown",
      "source": [
        "### Incorrect Value Patterns"
      ]
    },
    {
      "metadata": {
        "id": "RSUN8tChyyEZ",
        "colab_type": "text"
      },
      "cell_type": "markdown",
      "source": [
        "Say you conduct a survey of 100 students at UCSD to find out how much free time the average student has.\n",
        "\n",
        " You ask students three questions \n",
        "\n",
        "1.   How many classes are you taking right now?\n",
        "2.   What time do you wake up?\n",
        "3.   How long do you spend studying at the library every day?\n",
        "\n",
        "Your results bring back this table\n"
      ]
    },
    {
      "metadata": {
        "id": "DWkaQYBMyxTd",
        "colab_type": "code",
        "colab": {}
      },
      "cell_type": "code",
      "source": [
        "incorrect_table = pd.read_csv('incorrect_table.csv')\n",
        "#incorrect_table"
      ],
      "execution_count": 0,
      "outputs": []
    },
    {
      "metadata": {
        "id": "GD0g7pCGC5vP",
        "colab_type": "text"
      },
      "cell_type": "markdown",
      "source": [
        "Just from looking at this table, it already seems like we need to do some cleaning.\n",
        "\n",
        "What would be a more efficient algorithm to clean this table up?\n",
        "\n",
        "1.   Find the most commonly or obviously wrong data values and fix them.\n",
        "2.   Constrain each column to their expected value and remove outliers.\n",
        "3.   Find the right expected values in columns and create a new table with just those values.\n",
        "\n",
        "\n",
        "One important thing about preserving the validity of the data set is making sure each column holds the correct type of values for all rows. This is extremely important if you want to run any kind of algorithm over the data set since you do not want any weird values or exceptions to pass through as your algorithm becomes confused on what to do with such input. We need to constrain each column with 'probable' values we should expect. For example, if a column is supposed to contain only true or false, no value in the column should be 'both' unless you're Schrodinger or something. \n",
        "\n",
        "Let's fix the table and only include students in our study, to do this we can look at the 'Classes Taking' column. A UCSD student should be taking at least a class here, and nothing more than 5 classes (I hope). "
      ]
    },
    {
      "metadata": {
        "id": "nofXML1Lyw-7",
        "colab_type": "code",
        "colab": {
          "base_uri": "https://localhost:8080/",
          "height": 34
        },
        "outputId": "797fed41-c588-472f-c428-077321d8e276"
      },
      "cell_type": "code",
      "source": [
        "#One great thing about Pandas Dataframes is that they assert a datatype for each column\n",
        "#Since there looks to be strings in the 'Classes Taking' column, it probably contains string types.\n",
        "#Let's check the type of the first element\n",
        "print(type(incorrect_table['Classes Taking'][0]))\n"
      ],
      "execution_count": 89,
      "outputs": [
        {
          "output_type": "stream",
          "text": [
            "<class 'str'>\n"
          ],
          "name": "stdout"
        }
      ]
    },
    {
      "metadata": {
        "id": "BMXh9wbwOhnZ",
        "colab_type": "code",
        "colab": {}
      },
      "cell_type": "code",
      "source": [
        "#Wow, so the rest of the data values in this columns are strings, who would do such a thing\n",
        "#With this in mind, we can continue to think about removing non-students. Let's make a list\n",
        "#of expected values to check for\n",
        "expected_classes = [\"1\", \"2\", \"3\", \"4\", \"5\"] #remember string type!\n",
        "\n",
        "#Let's check each value in the column and find out if the row is for a respective student\n",
        "#We could make a function that returns true if it is a student and false if not a student\n",
        "check_if_student = lambda student_classes: student_classes in expected_classes\n",
        "\n",
        "#Great! Now apply this function to every value in the column, we can do this using the map() function\n",
        "#Now we can select the rows of the table who are students and make a new table fixed_students_table\n",
        "fixed_students_table = incorrect_table[incorrect_table['Classes Taking'].map(check_if_student) == True]\n",
        "#fixed_students_table"
      ],
      "execution_count": 0,
      "outputs": []
    },
    {
      "metadata": {
        "id": "wM8OsrPBSTp8",
        "colab_type": "code",
        "colab": {
          "base_uri": "https://localhost:8080/",
          "height": 34
        },
        "outputId": "657fbce3-2455-44e5-98d3-99e841b0df11"
      },
      "cell_type": "code",
      "source": [
        "#Let's see how many 'students' we surveyed\n",
        "print('Out of the',incorrect_table.shape[0], 'surveyed at UCSD, only', fixed_students_table.shape[0], 'were actually students.')"
      ],
      "execution_count": 91,
      "outputs": [
        {
          "output_type": "stream",
          "text": [
            "Out of the 100 surveyed at UCSD, only 85 were actually students.\n"
          ],
          "name": "stdout"
        }
      ]
    },
    {
      "metadata": {
        "id": "n3sLzVceXJjj",
        "colab_type": "text"
      },
      "cell_type": "markdown",
      "source": [
        "Exercise: \n",
        "\n",
        "Your co-worker wrote a function that will take the average time spend at the library from the 'Time Spent at Library' column. The function takes in strings in the form 'N hours' where N is the number of hours spent. \n",
        "\n",
        "\n",
        "\n",
        "1.   Write a function that would check each value and see if it is already in that format.\n",
        "2.   If not, change that value into something that would match the format (Ex:  None -> '0 hours')\n",
        "3.   Change the values in the same table and return the fixed table\n",
        "\n",
        "Hint: To change values in the table, you can use table.loc(row_index, column_name) = new_value\n",
        "\n",
        "\n"
      ]
    },
    {
      "metadata": {
        "id": "ZSSb2Cpa3V0W",
        "colab_type": "text"
      },
      "cell_type": "markdown",
      "source": [
        "### Data Accuracy"
      ]
    },
    {
      "metadata": {
        "id": "WwLrtwUo4PbA",
        "colab_type": "text"
      },
      "cell_type": "markdown",
      "source": [
        "If we are going to learn from our data to allow us to pursue further actions, the data should sure as hell be accurate. Inaccurate data can cause huge problems, whether it is entered manually or automatically, no matter how small the error may be, it [could be funny](https://twitter.com/asjadnazir/status/512874124042305536) or [end horribly for you](https://www.theguardian.com/technology/2013/jul/18/people-falsely-accused-internet-data-disclosure)"
      ]
    },
    {
      "metadata": {
        "id": "tednlELjAisY",
        "colab_type": "text"
      },
      "cell_type": "markdown",
      "source": [
        "The accuracy of your dataset depends on what you are trying to solve. If you are trying to figure out the median age of a group of people, it is ok to use whole discrete numbers as the room for error is not so strained on being completely accurate. However, if you are trying to figure out the probability that a drug will work on a patient, there will be real life consequences due to inaccurate data.\n",
        "\n",
        "There are multiple avenues bad data can come in, let's look at a data set of fictional patients where we want to find out whether or not a certain drug should be used on each patient."
      ]
    },
    {
      "metadata": {
        "id": "B9vpjA76Lxuz",
        "colab_type": "code",
        "colab": {}
      },
      "cell_type": "code",
      "source": [
        "medical_table = pd.read_csv('medical_table.csv')\n",
        "#medical_table"
      ],
      "execution_count": 0,
      "outputs": []
    },
    {
      "metadata": {
        "id": "1G1vsPksMkeF",
        "colab_type": "text"
      },
      "cell_type": "markdown",
      "source": [
        "At first glance, there does not seem to be anything prominently wrong. However, look at the first row's probability columns. The probability that it will work is 16% while the probability it will fail is 88%, for a total whopping 104%. This is an inaccurate measurement of probability that if possible to happen to one patient, it is definitely possible to have happened to others. Let's check the patients to see how many have inaccurate measurements.\n",
        "\n"
      ]
    },
    {
      "metadata": {
        "id": "ezlvM5drPdmr",
        "colab_type": "code",
        "colab": {}
      },
      "cell_type": "code",
      "source": [
        "#Define a function that will check both probabilities\n",
        "#We want to see if both probabilities add up to 1, so it is a valid probability\n",
        "check_probabilities = lambda drug_works, drug_fails: drug_works + drug_fails == 1\n",
        "\n",
        "#Notice we are comparing two different columns, in Pandas this is synonymous to\n",
        "#comparing two different Series, we can find out which rows have invalid probabilties\n",
        "num_rows = len(medical_table.index)\n",
        "drug_successes_probs = medical_table['P(Drug Works)']\n",
        "drug_failure_probs = medical_table['P(Drug Fails)']\n",
        "\n",
        "#cross check every probability pair and put in list [True, False,...] depending on if valid or not\n",
        "valid_rows = []\n",
        "for i in range(num_rows):\n",
        "  is_valid_row = check_probabilities(drug_successes_probs[i], drug_failure_probs[i])\n",
        "  valid_rows.append(is_valid_row)\n",
        "  \n",
        "#drop row indexes if they are invalid\n",
        "fixed_medical_table = medical_table.drop([x for x in range(num_rows) if valid_rows[x] != True])\n",
        "fixed_medical_table"
      ],
      "execution_count": 0,
      "outputs": []
    },
    {
      "metadata": {
        "id": "UfliO-y5XGEb",
        "colab_type": "code",
        "colab": {}
      },
      "cell_type": "code",
      "source": [
        "#Cool thing about Pandas is you can do all of that in one line lol\n",
        "medical_table[medical_table['P(Drug Works)'] + medical_table['P(Drug Fails)'] == 1"
      ],
      "execution_count": 0,
      "outputs": []
    },
    {
      "metadata": {
        "id": "Up4Enhv6X6GS",
        "colab_type": "text"
      },
      "cell_type": "markdown",
      "source": [
        "Enforcing accuracy is key in ensuring that all other techniques you apply to the dataset will not be stressed in unimaginable ways. Keeping the measurements consistant throughout will relieve you from worrying about comparison issues later down the line."
      ]
    },
    {
      "metadata": {
        "id": "KBdfRUiFKh6F",
        "colab_type": "text"
      },
      "cell_type": "markdown",
      "source": [
        "### Challenge"
      ]
    },
    {
      "metadata": {
        "id": "ab1RHI7p-HJ0",
        "colab_type": "text"
      },
      "cell_type": "markdown",
      "source": [
        ""
      ]
    }
  ]
}