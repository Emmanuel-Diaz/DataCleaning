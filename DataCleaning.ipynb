{
  "nbformat": 4,
  "nbformat_minor": 0,
  "metadata": {
    "colab": {
      "name": "DataCleaning.ipynb",
      "version": "0.3.2",
      "provenance": [],
      "collapsed_sections": []
    },
    "kernelspec": {
      "name": "python3",
      "display_name": "Python 3"
    }
  },
  "cells": [
    {
      "metadata": {
        "id": "CGrB8E2AKkwY",
        "colab_type": "text"
      },
      "cell_type": "markdown",
      "source": [
        "# Data Cleaning"
      ]
    },
    {
      "metadata": {
        "id": "h1KrwVC-K6Wz",
        "colab_type": "text"
      },
      "cell_type": "markdown",
      "source": [
        "One of the most important actions in life is preparing, whether it be preparing for a test by studying or gathering the right ingredients to make a meal, preparation is a key step towards success. Just like everyone, data isn't perfect, can have mistakes, and often forgets to text back(FUNNY). Maybe not the latter, but the process of data collection yields much room for error whether it be missing data values or inaccurate data readings. For this reason, we should prepare our data before diving into analysis. \n",
        "\n"
      ]
    },
    {
      "metadata": {
        "id": "gxaDQWMhnl1-",
        "colab_type": "text"
      },
      "cell_type": "markdown",
      "source": [
        "**Excercise**:\n",
        "\n",
        "Before we tell the computer what to look for, let us know intuitively what is wrong with the data.\n",
        "Take a look at the following table from a UCSD data set and spot some obvious and not so obvious errors."
      ]
    },
    {
      "metadata": {
        "id": "oUX8V9iHazE0",
        "colab_type": "text"
      },
      "cell_type": "markdown",
      "source": [
        "![alt text](https://i.imgur.com/MqqZukV.png)\n",
        "\n"
      ]
    },
    {
      "metadata": {
        "id": "-eIej7WAom4Q",
        "colab_type": "text"
      },
      "cell_type": "markdown",
      "source": [
        "We can spot quite a few errors, like the fact that NaN is not a major and why would a raccoon eat at Pines, raccoons eat trash - wait nevermind(FUNNY). Although we can spot these mistakes, we need to think more systematically in order to know how to write a program fixing the data. \n",
        "\n",
        "Say we want to analyze the frequency of favorite dining halls to know which one most students enjoy. Look at the column for 'Favorite Dining Hall', you would expect all the values to follow some sort of pattern. The 'Favorite Dining Hall' column should really only contain values in the set of all dining halls [\"64 Degrees\", \"Cafe Ventanas\". \"Canyon Vista\", \"Foodworx\", \"Oceanview\", \"Pines\"]. Any other kind of answers for dining halls should not be looked at when looking for the most favorited dining hall.\n",
        "\n",
        "Ok so we removed the undesired entries for the favorite dining hall analysis, let's calculate the mode of the 'Favorite Dining Hall' column and we're done, right? Well, look at the table again, there are two Talking Trees! We really should only have one (seriously), duplicate entries should  always be considered when cleaning every data set you encounter.\n",
        "\n",
        "\n",
        "There are multiple cases to look for depending on what kind of analysis you are performing, so let's take a look at different classic scenarios you will definitely face when cleaning your data."
      ]
    },
    {
      "metadata": {
        "id": "PyAKAhxD06af",
        "colab_type": "text"
      },
      "cell_type": "markdown",
      "source": [
        "### Load Dataset\n",
        "\n",
        "Let's run this cell to load the ____ dataset"
      ]
    },
    {
      "metadata": {
        "id": "RtKGH8xA05ak",
        "colab_type": "code",
        "colab": {
          "base_uri": "https://localhost:8080/",
          "height": 368
        },
        "outputId": "6cdef5ba-15a9-4792-ddde-ae3f938a26f2"
      },
      "cell_type": "code",
      "source": [
        "import csv\n",
        "import urllib2\n",
        "import pandas as pd\n",
        "\n",
        "url = 'http://winterolympicsmedals.com/medals.csv'\n",
        "response = urllib2.urlopen(url)\n",
        "csv_file = csv.reader(response)\n",
        "\n",
        "data = pd.read_csv(csv_file)"
      ],
      "execution_count": 2,
      "outputs": [
        {
          "output_type": "error",
          "ename": "ModuleNotFoundError",
          "evalue": "ignored",
          "traceback": [
            "\u001b[0;31m---------------------------------------------------------------------------\u001b[0m",
            "\u001b[0;31mModuleNotFoundError\u001b[0m                       Traceback (most recent call last)",
            "\u001b[0;32m<ipython-input-2-272eaa8f28b5>\u001b[0m in \u001b[0;36m<module>\u001b[0;34m()\u001b[0m\n\u001b[1;32m      1\u001b[0m \u001b[0;32mimport\u001b[0m \u001b[0mcsv\u001b[0m\u001b[0;34m\u001b[0m\u001b[0m\n\u001b[0;32m----> 2\u001b[0;31m \u001b[0;32mimport\u001b[0m \u001b[0murllib2\u001b[0m\u001b[0;34m\u001b[0m\u001b[0m\n\u001b[0m\u001b[1;32m      3\u001b[0m \u001b[0;32mimport\u001b[0m \u001b[0mpandas\u001b[0m \u001b[0;32mas\u001b[0m \u001b[0mpd\u001b[0m\u001b[0;34m\u001b[0m\u001b[0m\n\u001b[1;32m      4\u001b[0m \u001b[0;34m\u001b[0m\u001b[0m\n\u001b[1;32m      5\u001b[0m \u001b[0murl\u001b[0m \u001b[0;34m=\u001b[0m \u001b[0;34m'http://winterolympicsmedals.com/medals.csv'\u001b[0m\u001b[0;34m\u001b[0m\u001b[0m\n",
            "\u001b[0;31mModuleNotFoundError\u001b[0m: No module named 'urllib2'",
            "",
            "\u001b[0;31m---------------------------------------------------------------------------\u001b[0;32m\nNOTE: If your import is failing due to a missing package, you can\nmanually install dependencies using either !pip or !apt.\n\nTo view examples of installing some common dependencies, click the\n\"Open Examples\" button below.\n\u001b[0;31m---------------------------------------------------------------------------\u001b[0m\n"
          ]
        }
      ]
    },
    {
      "metadata": {
        "id": "UTw8EoM6yoL1",
        "colab_type": "text"
      },
      "cell_type": "markdown",
      "source": [
        "### Empty/Null Values"
      ]
    },
    {
      "metadata": {
        "id": "RSUN8tChyyEZ",
        "colab_type": "text"
      },
      "cell_type": "markdown",
      "source": [
        ""
      ]
    },
    {
      "metadata": {
        "id": "DWkaQYBMyxTd",
        "colab_type": "code",
        "colab": {}
      },
      "cell_type": "code",
      "source": [
        "import pandas as pd"
      ],
      "execution_count": 0,
      "outputs": []
    },
    {
      "metadata": {
        "id": "3VQeUpSXGJgq",
        "colab_type": "code",
        "colab": {}
      },
      "cell_type": "code",
      "source": [
        "df = pd.read_csv"
      ],
      "execution_count": 0,
      "outputs": []
    },
    {
      "metadata": {
        "id": "nofXML1Lyw-7",
        "colab_type": "code",
        "colab": {}
      },
      "cell_type": "code",
      "source": [
        ""
      ],
      "execution_count": 0,
      "outputs": []
    },
    {
      "metadata": {
        "id": "KBdfRUiFKh6F",
        "colab_type": "text"
      },
      "cell_type": "markdown",
      "source": [
        ""
      ]
    }
  ]
}